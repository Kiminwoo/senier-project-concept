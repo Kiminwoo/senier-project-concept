{
 "cells": [
  {
   "cell_type": "code",
   "execution_count": 1,
   "metadata": {},
   "outputs": [],
   "source": [
    "import pandas as pd\n",
    "import numpy as np\n",
    "import matplotlib.pyplot as plt\n",
    "import seaborn as sea"
   ]
  },
  {
   "cell_type": "code",
   "execution_count": 2,
   "metadata": {},
   "outputs": [],
   "source": [
    "sea.set_palette(\"muted\")"
   ]
  },
  {
   "cell_type": "code",
   "execution_count": 3,
   "metadata": {},
   "outputs": [],
   "source": [
    "DF = pd.read_excel(\"C:/Users/user/Desktop/졸작/Steam게임데이타(Github)/Steam_game_data.xlsx\")"
   ]
  },
  {
   "cell_type": "code",
   "execution_count": 4,
   "metadata": {},
   "outputs": [
    {
     "name": "stdout",
     "output_type": "stream",
     "text": [
      "There are 1040 free games, with an average of 331124.82682512735 ratings per game.\n",
      "There are 1040 free games, with an average rating of 180750.23595505618 per game.\n",
      "There are 12310 paid games, with an average of 259492.21723019917 ratings per game.\n",
      "There are 12310 paid games, with an average rating of 196500.88979223126 per game.\n"
     ]
    },
    {
     "data": {
      "image/png": "[encoded data removed]",
      "text/plain": [
       "<Figure size 432x288 with 1 Axes>"
      ]
     },
     "metadata": {
      "needs_background": "light"
     },
     "output_type": "display_data"
    }
   ],
   "source": [
    "f = DF[DF['IsFree'] == True].count()\n",
    "fr = DF[(DF['IsFree'] == True) & DF['RecommendationCount']].mean()\n",
    "fs = DF[(DF['IsFree'] == True) & DF['Metacritic']].mean()\n",
    "print(\"There are\", f[1], \"free games, with an average of\", fr[1], \"ratings per game.\")\n",
    "print(\"There are\", f[1], \"free games, with an average rating of\", fs[0], \"per game.\")\n",
    "#----------------------- True Vs False ( Free Vs Pair)\n",
    "\n",
    "nf = DF[DF['IsFree'] == False].count()\n",
    "nfr = DF[(DF['IsFree'] == False) & DF['RecommendationCount']].mean()\n",
    "nfs = DF[(DF['IsFree'] == False) & DF['Metacritic']].mean()\n",
    "print(\"There are\", nf[1], \"paid games, with an average of\", nfr[1], \"ratings per game.\")\n",
    "print(\"There are\", nf[1], \"paid games, with an average rating of\", nfs[0], \"per game.\")\n",
    "\n",
    "d = {'one' : pd.Series([fr[1],nfr[1]],index=['Free R', 'Paid R'])} # Rating \n",
    "\n",
    "df = pd.DataFrame(d)\n",
    "df.plot(kind='bar', title='Ratings Per Game', legend=False)\n",
    "plt.savefig(\"C:/Users/user/Desktop/졸작/Steam게임데이타(Github)2/freeVsPair_rating_bar.png\", bbox_inches='tight');\n",
    "\n",
    "\n"
   ]
  },
  {
   "cell_type": "code",
   "execution_count": null,
   "metadata": {},
   "outputs": [],
   "source": []
  }
 ],
 "metadata": {
  "kernelspec": {
   "display_name": "Python 3",
   "language": "python",
   "name": "python3"
  },
  "language_info": {
   "codemirror_mode": {
    "name": "ipython",
    "version": 3
   },
   "file_extension": ".py",
   "mimetype": "text/x-python",
   "name": "python",
   "nbconvert_exporter": "python",
   "pygments_lexer": "ipython3",
   "version": "3.7.1"
  }
 },
 "nbformat": 4,
 "nbformat_minor": 2
}
